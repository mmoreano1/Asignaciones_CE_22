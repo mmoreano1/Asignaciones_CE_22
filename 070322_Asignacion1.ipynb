{
  "nbformat": 4,
  "nbformat_minor": 0,
  "metadata": {
    "colab": {
      "name": "070322_PrimerNB.ipynb",
      "provenance": []
    },
    "kernelspec": {
      "name": "python3",
      "display_name": "Python 3"
    },
    "language_info": {
      "name": "python"
    }
  },
  "cells": [
    {
      "cell_type": "markdown",
      "source": [
        "# Primer Notebook\n",
        " 1. Cargar un archivo de excel"
      ],
      "metadata": {
        "id": "xLSZNWQol-X2"
      }
    },
    {
      "cell_type": "code",
      "execution_count": 9,
      "metadata": {
        "id": "A24e0IN1Y99A"
      },
      "outputs": [],
      "source": [
        "ubi_archivo='/content/drive/MyDrive/Computación estadística/trees.xlsx'"
      ]
    },
    {
      "cell_type": "markdown",
      "source": [
        "2. Colocar una imagen desde internet\n",
        "\n",
        "![Theoromacacao](https://laenergiadelasflores.blog/wp-content/uploads/2018/11/398px-cacao_flor-e1542568051572.jpg)\n",
        "\n",
        "\n",
        "3. Escribir una matriz 4x4\n",
        "\n",
        "$$\\begin{bmatrix}\n",
        "x_{11} & x_{12} & x_{13} & x_{14} \\\\\n",
        "x_{21} & x_{22} & x_{23} & x_{24} \\\\\n",
        "x_{31} & x_{32} & x_{33} & x_{34} \\\\\n",
        "x_{41} & x_{42} & x_{43} & x_{44} \\\\\n",
        "\\end{bmatrix}$$\n",
        "\n",
        "4. Escribir una tabla\n",
        "\n",
        "$$\\begin{array}{|c|c|c|c|c|c|c|}\n",
        "\\hline\n",
        "x_i & f_i & F_i & h_i & H_i  & p_i & P_i  \\\\ \\hline\n",
        "1    & 4    & 4    & 4/20 & 4/20  & 20\\% & 20\\%  \\\\ \\hline\n",
        "2    & 7    & 11   & 7/20 & 11/20 & 35\\% & 55\\%  \\\\ \\hline\n",
        "3    & 5    & 16   & 5/20 & 16/20 & 25\\% & 80\\%  \\\\ \\hline\n",
        "4    & 3    & 19   & 3/20 & 19/20 & 15\\% & 95\\%  \\\\ \\hline\n",
        "5    & 1    & 20   & 1/20 & 20/20 & 5\\%  & 100\\% \\\\ \\hline\n",
        "     & N=20 &      &      &       &      &       \\\\ \\hline\n",
        "\\end{array}$$\n",
        "\n",
        "5. Escribir una ecuacion con $\\LaTeX$ \n",
        "\n",
        "$$m=\\frac{Z{^2}\\sigma {^2}N}{e{^2(N-1)}+Z{^2}\\sigma {^2}}$$"
      ],
      "metadata": {
        "id": "Pv1iMd5fxsjO"
      }
    }
  ]
}
