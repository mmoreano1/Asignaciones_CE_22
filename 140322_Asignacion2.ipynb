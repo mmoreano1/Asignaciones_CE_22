{
  "nbformat": 4,
  "nbformat_minor": 0,
  "metadata": {
    "colab": {
      "name": "140322_Asignacion2.ipynb",
      "provenance": []
    },
    "kernelspec": {
      "name": "python3",
      "display_name": "Python 3"
    },
    "language_info": {
      "name": "python"
    }
  },
  "cells": [
    {
      "cell_type": "markdown",
      "source": [
        "$$y=log(x)$$"
      ],
      "metadata": {
        "id": "uPXC_4MmFL2X"
      }
    },
    {
      "cell_type": "code",
      "execution_count": 7,
      "metadata": {
        "colab": {
          "base_uri": "https://localhost:8080/"
        },
        "id": "EuBCb0kbE1Kv",
        "outputId": "7faed9c3-db5e-4f16-d635-dc4fc483079a"
      },
      "outputs": [
        {
          "output_type": "stream",
          "name": "stdout",
          "text": [
            "Ingrese x:12\n",
            "y es: 2.485\n"
          ]
        }
      ],
      "source": [
        "from math import log\n",
        "x = float (input(\"Ingrese x:\"))\n",
        "if x<=0:\n",
        "  print (\"No esta definido\")\n",
        "else:\n",
        "  y=log(x)\n",
        "  print(\"y es: {:.3f}\".format(y))"
      ]
    },
    {
      "cell_type": "markdown",
      "source": [
        "$$y=log(\\sqrt{x})$$"
      ],
      "metadata": {
        "id": "5luH1U_DHPDy"
      }
    },
    {
      "cell_type": "code",
      "source": [
        "x = float (input(\"Ingrese x:\"))\n",
        "if x<=0:\n",
        "  print (\"No esta definido\")\n",
        "else:\n",
        "  y=log(x**(1/2))\n",
        "  print(\"y es: {:.3f}\".format(y))"
      ],
      "metadata": {
        "colab": {
          "base_uri": "https://localhost:8080/"
        },
        "id": "J5plWSPyH2Z1",
        "outputId": "25f7df27-c114-41b3-d347-f3fb0bc98d95"
      },
      "execution_count": 12,
      "outputs": [
        {
          "output_type": "stream",
          "name": "stdout",
          "text": [
            "Ingrese x:3\n",
            "y es: 0.549\n"
          ]
        }
      ]
    },
    {
      "cell_type": "markdown",
      "source": [
        "$$y=log(\\sqrt{x^2-1})$$"
      ],
      "metadata": {
        "id": "jjfm7FyqLy67"
      }
    },
    {
      "cell_type": "code",
      "source": [
        "x = float (input(\"Ingrese x:\"))\n",
        "if (x<=1) and (x>=-1):\n",
        "  print (\"No esta definido\")\n",
        "else:\n",
        "  y=log((x**(2)-1)**(1/2))\n",
        "  print(\"y es: {:.3f}\".format(y))"
      ],
      "metadata": {
        "colab": {
          "base_uri": "https://localhost:8080/"
        },
        "id": "vVe8VYeMMFLr",
        "outputId": "47764d4a-2330-4313-af52-168c766bd3d4"
      },
      "execution_count": 33,
      "outputs": [
        {
          "output_type": "stream",
          "name": "stdout",
          "text": [
            "Ingrese x:5\n",
            "y es: 1.589\n"
          ]
        }
      ]
    },
    {
      "cell_type": "markdown",
      "source": [
        "$$y=\\dfrac{log(\\sqrt{x-1})}{x^2+1}$$"
      ],
      "metadata": {
        "id": "3pGE3_BBMerY"
      }
    },
    {
      "cell_type": "code",
      "source": [
        "x = float (input(\"Ingrese x:\"))\n",
        "if (x<=1):\n",
        "  print (\"No esta definido\")\n",
        "else:\n",
        "  y=(log((x-1)**(1/2))/(x**2+1))\n",
        "  print(\"y es: {:.3f}\".format(y))"
      ],
      "metadata": {
        "colab": {
          "base_uri": "https://localhost:8080/"
        },
        "id": "R1abRiOtk7G_",
        "outputId": "b7264366-cb45-4065-e409-181040354054"
      },
      "execution_count": 39,
      "outputs": [
        {
          "output_type": "stream",
          "name": "stdout",
          "text": [
            "Ingrese x:7\n",
            "y es: 0.018\n"
          ]
        }
      ]
    },
    {
      "cell_type": "markdown",
      "source": [
        "$$y=\\dfrac{x-1}{log(x)}$$\n"
      ],
      "metadata": {
        "id": "ngYzqZhcMj30"
      }
    },
    {
      "cell_type": "code",
      "source": [
        "x = float (input(\"Ingrese x:\"))\n",
        "if (x<0):\n",
        "  print (\"No esta definido\")\n",
        "else:\n",
        "  y=((x-1)/(log(x)))\n",
        "  print(\"y es: {:.3f}\".format(y))"
      ],
      "metadata": {
        "colab": {
          "base_uri": "https://localhost:8080/"
        },
        "id": "Hrn1RMZGxZhU",
        "outputId": "81f17fca-0557-4bd6-f82c-cc10b97dec84"
      },
      "execution_count": 41,
      "outputs": [
        {
          "output_type": "stream",
          "name": "stdout",
          "text": [
            "Ingrese x:2\n",
            "y es: 1.443\n"
          ]
        }
      ]
    },
    {
      "cell_type": "markdown",
      "source": [
        "$$y=\\dfrac{1}{x}+\\sqrt{x-1}$$"
      ],
      "metadata": {
        "id": "vwYfC0YlMj9R"
      }
    },
    {
      "cell_type": "code",
      "source": [
        "from math import pow\n",
        "x = float (input(\"Ingrese x:\"))\n",
        "if (x<=0):\n",
        "  print (\"No esta definido\")\n",
        "else:\n",
        "  y=(1/x + pow(x-1,1/2))\n",
        "  print(\"y es: {:.3f}\".format(y))"
      ],
      "metadata": {
        "colab": {
          "base_uri": "https://localhost:8080/"
        },
        "id": "RkCF-iao8QIc",
        "outputId": "169e6f63-dc6d-492e-a094-6b5298f27b83"
      },
      "execution_count": 45,
      "outputs": [
        {
          "output_type": "stream",
          "name": "stdout",
          "text": [
            "Ingrese x:4\n",
            "y es: 1.982\n"
          ]
        }
      ]
    },
    {
      "cell_type": "markdown",
      "source": [
        "$$y=\\dfrac{1}{x}+\\sqrt{x-1}-\\dfrac{1}{log\\left(\\dfrac{1}{x+1}\\right)}$$"
      ],
      "metadata": {
        "id": "MorvRIZBMkC1"
      }
    },
    {
      "cell_type": "code",
      "source": [
        "x = float (input(\"Ingrese x:\"))\n",
        "if (x<1):\n",
        "  print (\"No esta definido\")\n",
        "else:\n",
        "  y=((x-1)/(log(x)))\n",
        "  print(\"y es: {:.3f}\".format(y))"
      ],
      "metadata": {
        "id": "uXbOgxyy8elv"
      },
      "execution_count": null,
      "outputs": []
    },
    {
      "cell_type": "markdown",
      "source": [
        "$$y=\\dfrac{2}{x^2+1}$$"
      ],
      "metadata": {
        "id": "aOHPD8yxMkH2"
      }
    },
    {
      "cell_type": "code",
      "source": [
        "x = float (input(\"Ingrese x:\"))\n",
        "y=(2/(pow(x,2)+1))\n",
        "print(\"y es: {:.3f}\".format(y))"
      ],
      "metadata": {
        "colab": {
          "base_uri": "https://localhost:8080/"
        },
        "id": "wIYX-R45_UnI",
        "outputId": "af860acf-c491-4c1c-82f3-eb09bc5384a2"
      },
      "execution_count": 46,
      "outputs": [
        {
          "output_type": "stream",
          "name": "stdout",
          "text": [
            "Ingrese x:2\n",
            "y es: 0.400\n"
          ]
        }
      ]
    },
    {
      "cell_type": "markdown",
      "source": [
        "$$A=log_{10}\\dfrac{1}{T}$$"
      ],
      "metadata": {
        "id": "zRuF-60OCYjw"
      }
    },
    {
      "cell_type": "code",
      "source": [
        "T = float (input(\"Ingrese T:\"))\n",
        "A=(log(1/T))\n",
        "print(\"A es: {:.3f}\".format(A))"
      ],
      "metadata": {
        "colab": {
          "base_uri": "https://localhost:8080/"
        },
        "id": "83C6dGmFDRg-",
        "outputId": "2d916367-fd8e-49b3-8b4e-49ba0f236ad3"
      },
      "execution_count": 47,
      "outputs": [
        {
          "output_type": "stream",
          "name": "stdout",
          "text": [
            "Ingrese T:2\n",
            "A es: -0.693\n"
          ]
        }
      ]
    },
    {
      "cell_type": "markdown",
      "source": [
        "$$y=\\dfrac{1}{n}\\sum_{i=1}^{n}x_i$$\n",
        "$$z=\\dfrac{1}{n-1}\\sum_{i=1}^{n}(x_i-\\bar{x})^2$$\n",
        "$$m=\\dfrac{\\sqrt{z}}{y}$$"
      ],
      "metadata": {
        "id": "G1EA6bpuMkR2"
      }
    }
  ]
}